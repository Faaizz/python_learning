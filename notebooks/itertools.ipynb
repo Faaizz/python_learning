{
 "metadata": {
  "language_info": {
   "codemirror_mode": {
    "name": "ipython",
    "version": 3
   },
   "file_extension": ".py",
   "mimetype": "text/x-python",
   "name": "python",
   "nbconvert_exporter": "python",
   "pygments_lexer": "ipython3",
   "version": "3.8.2-final"
  },
  "orig_nbformat": 2,
  "kernelspec": {
   "name": "python_defaultSpec_1598957245293",
   "display_name": "Python 3.8.2 64-bit"
  }
 },
 "nbformat": 4,
 "nbformat_minor": 2,
 "cells": [
  {
   "cell_type": "markdown",
   "metadata": {},
   "source": [
    "## itertools"
   ]
  },
  {
   "cell_type": "markdown",
   "metadata": {},
   "source": [
    "### product\n",
    "\n",
    "Expand iterables in cartesian product style.  "
   ]
  },
  {
   "cell_type": "code",
   "execution_count": 2,
   "metadata": {},
   "outputs": [],
   "source": [
    "from itertools import product"
   ]
  },
  {
   "cell_type": "code",
   "execution_count": 5,
   "metadata": {},
   "outputs": [
    {
     "output_type": "execute_result",
     "data": {
      "text/plain": "[(1, 3), (1, 4), (2, 3), (2, 4)]"
     },
     "metadata": {},
     "execution_count": 5
    }
   ],
   "source": [
    "list(product([1,2], [3,4]))"
   ]
  },
  {
   "cell_type": "markdown",
   "metadata": {},
   "source": [
    "### permutations\n",
    "Make permuatations of iterable elements"
   ]
  },
  {
   "cell_type": "code",
   "execution_count": 6,
   "metadata": {},
   "outputs": [],
   "source": [
    "from itertools import permutations"
   ]
  },
  {
   "cell_type": "code",
   "execution_count": 8,
   "metadata": {},
   "outputs": [
    {
     "output_type": "execute_result",
     "data": {
      "text/plain": "[('a', 'b', 'c'),\n ('a', 'c', 'b'),\n ('b', 'a', 'c'),\n ('b', 'c', 'a'),\n ('c', 'a', 'b'),\n ('c', 'b', 'a')]"
     },
     "metadata": {},
     "execution_count": 8
    }
   ],
   "source": [
    "list(permutations(\"abc\"))"
   ]
  },
  {
   "cell_type": "markdown",
   "metadata": {},
   "source": [
    "### combinations\n",
    "Make combinations of iterable elements into pairs of specified lengths"
   ]
  },
  {
   "cell_type": "code",
   "execution_count": 9,
   "metadata": {},
   "outputs": [],
   "source": [
    "# Combination without replacements\n",
    "from itertools import combinations"
   ]
  },
  {
   "cell_type": "code",
   "execution_count": 11,
   "metadata": {},
   "outputs": [
    {
     "output_type": "execute_result",
     "data": {
      "text/plain": "[(1, 2), (1, 3), (2, 3)]"
     },
     "metadata": {},
     "execution_count": 11
    }
   ],
   "source": [
    "list(combinations([1,2,3], 2))"
   ]
  },
  {
   "cell_type": "code",
   "execution_count": 12,
   "metadata": {},
   "outputs": [],
   "source": [
    "# Combination with replacements\n",
    "from itertools import combinations_with_replacement"
   ]
  },
  {
   "cell_type": "code",
   "execution_count": 13,
   "metadata": {},
   "outputs": [
    {
     "output_type": "execute_result",
     "data": {
      "text/plain": "[(1, 1), (1, 2), (1, 3), (2, 2), (2, 3), (3, 3)]"
     },
     "metadata": {},
     "execution_count": 13
    }
   ],
   "source": [
    "list(combinations_with_replacement([1,2,3], 2))"
   ]
  },
  {
   "cell_type": "markdown",
   "metadata": {},
   "source": [
    "### accumulate\n",
    "Accumulate iterable elements based on specified operation. By default, accumulation operation is *sum*."
   ]
  },
  {
   "cell_type": "code",
   "execution_count": 17,
   "metadata": {},
   "outputs": [],
   "source": [
    "from itertools import accumulate\n",
    "import operator"
   ]
  },
  {
   "cell_type": "code",
   "execution_count": 18,
   "metadata": {},
   "outputs": [
    {
     "output_type": "execute_result",
     "data": {
      "text/plain": "[1, 3, 6, 10]"
     },
     "metadata": {},
     "execution_count": 18
    }
   ],
   "source": [
    "list(accumulate([1,2,3,4]))"
   ]
  },
  {
   "cell_type": "code",
   "execution_count": 19,
   "metadata": {},
   "outputs": [
    {
     "output_type": "execute_result",
     "data": {
      "text/plain": "[1, 2, 6, 24]"
     },
     "metadata": {},
     "execution_count": 19
    }
   ],
   "source": [
    "list(accumulate([1,2,3,4], operator.mul))"
   ]
  },
  {
   "cell_type": "markdown",
   "metadata": {},
   "source": [
    "### groupby\n",
    "Group iterable elements by the result of a specified function called on the elements."
   ]
  },
  {
   "cell_type": "code",
   "execution_count": 23,
   "metadata": {},
   "outputs": [],
   "source": [
    "from itertools import groupby\n",
    "import numpy as np"
   ]
  },
  {
   "cell_type": "code",
   "execution_count": 22,
   "metadata": {},
   "outputs": [],
   "source": [
    "people= [\n",
    "    {\n",
    "        \"name\": \"Faaizz\",\n",
    "        \"age\": 24,\n",
    "    },\n",
    "    {\n",
    "        \"name\": \"Faatih\",\n",
    "        \"age\": 20\n",
    "    },\n",
    "    {\n",
    "        \"name\": \"Farida\",\n",
    "        \"age\": 27\n",
    "    },\n",
    "    {\n",
    "        \"name\": \"Fadlullah\",\n",
    "        \"age\": 29\n",
    "    },\n",
    "    \n",
    "]\n"
   ]
  },
  {
   "cell_type": "code",
   "execution_count": 61,
   "metadata": {
    "tags": []
   },
   "outputs": [
    {
     "output_type": "stream",
     "name": "stdout",
     "text": "24: [{'name': 'Faaizz', 'age': 24}]\n20: [{'name': 'Faatih', 'age': 20}]\n27: [{'name': 'Farida', 'age': 27}]\n29: [{'name': 'Fadlullah', 'age': 29}]\n"
    }
   ],
   "source": [
    "# Group by age groups\n",
    "age_groups= groupby(people, key=lambda x: x[\"age\"])\n",
    "\n",
    "for age_group in age_groups:\n",
    "    print(\"{}: {}\".format(age_group[0], list(age_group[1])))"
   ]
  },
  {
   "cell_type": "code",
   "execution_count": 26,
   "metadata": {},
   "outputs": [],
   "source": [
    "age_list= [ person[\"age\"] for person in people  ]\n",
    "age_arr= np.array(age_list)"
   ]
  },
  {
   "cell_type": "code",
   "execution_count": 46,
   "metadata": {},
   "outputs": [],
   "source": [
    "average_age= age_arr.mean()"
   ]
  },
  {
   "cell_type": "code",
   "execution_count": 51,
   "metadata": {},
   "outputs": [],
   "source": [
    "less_than_av= lambda x: x[\"age\"]<average_age"
   ]
  },
  {
   "cell_type": "code",
   "execution_count": 52,
   "metadata": {},
   "outputs": [],
   "source": [
    "average_age_groups= groupby(people, less_than_av)"
   ]
  },
  {
   "cell_type": "code",
   "execution_count": 54,
   "metadata": {
    "tags": []
   },
   "outputs": [],
   "source": [
    "# Less than average age\n",
    "for age_group in average_age_groups:\n",
    "    print(\"{}: {}\".format(age_group[0], list(age_group[1])))"
   ]
  },
  {
   "cell_type": "code",
   "execution_count": null,
   "metadata": {},
   "outputs": [],
   "source": []
  }
 ]
}